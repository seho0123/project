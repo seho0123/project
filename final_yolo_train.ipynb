{
  "cells": [
    {
      "cell_type": "code",
      "source": [
        "from google.colab import drive\n",
        "drive.mount('/content/drive')"
      ],
      "metadata": {
        "id": "nnX0wqRE17t6",
        "outputId": "b63094b4-f1a8-4869-86f6-842921763fdc",
        "colab": {
          "base_uri": "https://localhost:8080/"
        }
      },
      "execution_count": null,
      "outputs": [
        {
          "output_type": "stream",
          "name": "stdout",
          "text": [
            "Mounted at /content/drive\n"
          ]
        }
      ]
    },
    {
      "cell_type": "code",
      "source": [
        "!pip install PyYAML\n",
        "!pip install ultralytics"
      ],
      "metadata": {
        "id": "E9WK7lQl28ob",
        "colab": {
          "base_uri": "https://localhost:8080/"
        },
        "outputId": "255e974b-ade2-4a40-b782-0f4a8628603c"
      },
      "execution_count": null,
      "outputs": [
        {
          "output_type": "stream",
          "name": "stdout",
          "text": [
            "Requirement already satisfied: PyYAML in /usr/local/lib/python3.10/dist-packages (6.0)\n",
            "Collecting ultralytics\n",
            "  Downloading ultralytics-8.0.139-py3-none-any.whl (605 kB)\n",
            "\u001b[2K     \u001b[90m━━━━━━━━━━━━━━━━━━━━━━━━━━━━━━━━━━━━━━━\u001b[0m \u001b[32m605.9/605.9 kB\u001b[0m \u001b[31m6.3 MB/s\u001b[0m eta \u001b[36m0:00:00\u001b[0m\n",
            "\u001b[?25hRequirement already satisfied: matplotlib>=3.2.2 in /usr/local/lib/python3.10/dist-packages (from ultralytics) (3.7.1)\n",
            "Requirement already satisfied: opencv-python>=4.6.0 in /usr/local/lib/python3.10/dist-packages (from ultralytics) (4.7.0.72)\n",
            "Requirement already satisfied: Pillow>=7.1.2 in /usr/local/lib/python3.10/dist-packages (from ultralytics) (8.4.0)\n",
            "Requirement already satisfied: PyYAML>=5.3.1 in /usr/local/lib/python3.10/dist-packages (from ultralytics) (6.0)\n",
            "Requirement already satisfied: requests>=2.23.0 in /usr/local/lib/python3.10/dist-packages (from ultralytics) (2.27.1)\n",
            "Requirement already satisfied: scipy>=1.4.1 in /usr/local/lib/python3.10/dist-packages (from ultralytics) (1.10.1)\n",
            "Requirement already satisfied: torch>=1.7.0 in /usr/local/lib/python3.10/dist-packages (from ultralytics) (2.0.1+cu118)\n",
            "Requirement already satisfied: torchvision>=0.8.1 in /usr/local/lib/python3.10/dist-packages (from ultralytics) (0.15.2+cu118)\n",
            "Requirement already satisfied: tqdm>=4.64.0 in /usr/local/lib/python3.10/dist-packages (from ultralytics) (4.65.0)\n",
            "Requirement already satisfied: pandas>=1.1.4 in /usr/local/lib/python3.10/dist-packages (from ultralytics) (1.5.3)\n",
            "Requirement already satisfied: seaborn>=0.11.0 in /usr/local/lib/python3.10/dist-packages (from ultralytics) (0.12.2)\n",
            "Requirement already satisfied: psutil in /usr/local/lib/python3.10/dist-packages (from ultralytics) (5.9.5)\n",
            "Requirement already satisfied: contourpy>=1.0.1 in /usr/local/lib/python3.10/dist-packages (from matplotlib>=3.2.2->ultralytics) (1.1.0)\n",
            "Requirement already satisfied: cycler>=0.10 in /usr/local/lib/python3.10/dist-packages (from matplotlib>=3.2.2->ultralytics) (0.11.0)\n",
            "Requirement already satisfied: fonttools>=4.22.0 in /usr/local/lib/python3.10/dist-packages (from matplotlib>=3.2.2->ultralytics) (4.41.0)\n",
            "Requirement already satisfied: kiwisolver>=1.0.1 in /usr/local/lib/python3.10/dist-packages (from matplotlib>=3.2.2->ultralytics) (1.4.4)\n",
            "Requirement already satisfied: numpy>=1.20 in /usr/local/lib/python3.10/dist-packages (from matplotlib>=3.2.2->ultralytics) (1.22.4)\n",
            "Requirement already satisfied: packaging>=20.0 in /usr/local/lib/python3.10/dist-packages (from matplotlib>=3.2.2->ultralytics) (23.1)\n",
            "Requirement already satisfied: pyparsing>=2.3.1 in /usr/local/lib/python3.10/dist-packages (from matplotlib>=3.2.2->ultralytics) (3.1.0)\n",
            "Requirement already satisfied: python-dateutil>=2.7 in /usr/local/lib/python3.10/dist-packages (from matplotlib>=3.2.2->ultralytics) (2.8.2)\n",
            "Requirement already satisfied: pytz>=2020.1 in /usr/local/lib/python3.10/dist-packages (from pandas>=1.1.4->ultralytics) (2022.7.1)\n",
            "Requirement already satisfied: urllib3<1.27,>=1.21.1 in /usr/local/lib/python3.10/dist-packages (from requests>=2.23.0->ultralytics) (1.26.16)\n",
            "Requirement already satisfied: certifi>=2017.4.17 in /usr/local/lib/python3.10/dist-packages (from requests>=2.23.0->ultralytics) (2023.5.7)\n",
            "Requirement already satisfied: charset-normalizer~=2.0.0 in /usr/local/lib/python3.10/dist-packages (from requests>=2.23.0->ultralytics) (2.0.12)\n",
            "Requirement already satisfied: idna<4,>=2.5 in /usr/local/lib/python3.10/dist-packages (from requests>=2.23.0->ultralytics) (3.4)\n",
            "Requirement already satisfied: filelock in /usr/local/lib/python3.10/dist-packages (from torch>=1.7.0->ultralytics) (3.12.2)\n",
            "Requirement already satisfied: typing-extensions in /usr/local/lib/python3.10/dist-packages (from torch>=1.7.0->ultralytics) (4.7.1)\n",
            "Requirement already satisfied: sympy in /usr/local/lib/python3.10/dist-packages (from torch>=1.7.0->ultralytics) (1.11.1)\n",
            "Requirement already satisfied: networkx in /usr/local/lib/python3.10/dist-packages (from torch>=1.7.0->ultralytics) (3.1)\n",
            "Requirement already satisfied: jinja2 in /usr/local/lib/python3.10/dist-packages (from torch>=1.7.0->ultralytics) (3.1.2)\n",
            "Requirement already satisfied: triton==2.0.0 in /usr/local/lib/python3.10/dist-packages (from torch>=1.7.0->ultralytics) (2.0.0)\n",
            "Requirement already satisfied: cmake in /usr/local/lib/python3.10/dist-packages (from triton==2.0.0->torch>=1.7.0->ultralytics) (3.25.2)\n",
            "Requirement already satisfied: lit in /usr/local/lib/python3.10/dist-packages (from triton==2.0.0->torch>=1.7.0->ultralytics) (16.0.6)\n",
            "Requirement already satisfied: six>=1.5 in /usr/local/lib/python3.10/dist-packages (from python-dateutil>=2.7->matplotlib>=3.2.2->ultralytics) (1.16.0)\n",
            "Requirement already satisfied: MarkupSafe>=2.0 in /usr/local/lib/python3.10/dist-packages (from jinja2->torch>=1.7.0->ultralytics) (2.1.3)\n",
            "Requirement already satisfied: mpmath>=0.19 in /usr/local/lib/python3.10/dist-packages (from sympy->torch>=1.7.0->ultralytics) (1.3.0)\n",
            "Installing collected packages: ultralytics\n",
            "Successfully installed ultralytics-8.0.139\n"
          ]
        }
      ]
    },
    {
      "cell_type": "code",
      "source": [
        "import zipfile\n",
        "import yaml\n",
        "from ultralytics import YOLO"
      ],
      "metadata": {
        "id": "Jdqug5Z2256r"
      },
      "execution_count": null,
      "outputs": []
    },
    {
      "cell_type": "markdown",
      "metadata": {
        "id": "C4l2FIiJE1s7"
      },
      "source": [
        "### yaml 파일 설정 (데이터셋 위치 알려주는 config file)\n",
        "##### roboflow 에서 제공되는 data.yaml 파일 확인"
      ]
    },
    {
      "cell_type": "code",
      "execution_count": null,
      "metadata": {
        "id": "Wmum2kbAj-h3",
        "colab": {
          "base_uri": "https://localhost:8080/"
        },
        "outputId": "58b68f16-4709-49ff-dd6c-d1605e7e0335"
      },
      "outputs": [
        {
          "output_type": "stream",
          "name": "stdout",
          "text": [
            "cat: /content/drive/MyDrive/AI/yolo_train/: Is a directory\n"
          ]
        }
      ],
      "source": [
        "!cat /content/drive/MyDrive/AI/yolo_train/"
      ]
    },
    {
      "cell_type": "code",
      "execution_count": null,
      "metadata": {
        "id": "WnS0XLAcj1aO",
        "colab": {
          "base_uri": "https://localhost:8080/"
        },
        "outputId": "594afb1a-80b8-4ef7-d910-60d11ab59608"
      },
      "outputs": [
        {
          "output_type": "stream",
          "name": "stderr",
          "text": [
            "Ultralytics YOLOv8.0.139 🚀 Python-3.10.6 torch-2.0.1+cu118 CUDA:0 (Tesla T4, 15102MiB)\n",
            "Setup complete ✅ (2 CPUs, 12.7 GB RAM, 24.3/78.2 GB disk)\n"
          ]
        }
      ],
      "source": [
        "import ultralytics\n",
        "\n",
        "ultralytics.checks()"
      ]
    },
    {
      "cell_type": "markdown",
      "metadata": {
        "id": "u-U7UBFWFhlc"
      },
      "source": [
        "# Train (Python version)"
      ]
    },
    {
      "cell_type": "code",
      "execution_count": null,
      "metadata": {
        "id": "Das7YGgqmSUL",
        "colab": {
          "base_uri": "https://localhost:8080/"
        },
        "outputId": "acbe8b6e-801f-47d3-84fc-589dd3405ee8"
      },
      "outputs": [
        {
          "output_type": "stream",
          "name": "stderr",
          "text": [
            "Downloading https://github.com/ultralytics/assets/releases/download/v0.0.0/yolov8n.pt to yolov8n.pt...\n",
            "100%|██████████| 6.23M/6.23M [00:00<00:00, 134MB/s]\n"
          ]
        }
      ],
      "source": [
        "# Load YOLOv8n\n",
        "\n",
        "from ultralytics import YOLO\n",
        "\n",
        "model = YOLO('yolov8n.pt')  # load a pretrained YOLOv8n detection model"
      ]
    },
    {
      "cell_type": "code",
      "source": [
        "print(type(model.names), len(model.names))\n",
        "\n",
        "print(model.names)"
      ],
      "metadata": {
        "id": "7X_3dSOFPQi3",
        "colab": {
          "base_uri": "https://localhost:8080/"
        },
        "outputId": "3f7a901e-2404-49c2-9ac8-1c6d6795603a"
      },
      "execution_count": null,
      "outputs": [
        {
          "output_type": "stream",
          "name": "stdout",
          "text": [
            "<class 'dict'> 80\n",
            "{0: 'person', 1: 'bicycle', 2: 'car', 3: 'motorcycle', 4: 'airplane', 5: 'bus', 6: 'train', 7: 'truck', 8: 'boat', 9: 'traffic light', 10: 'fire hydrant', 11: 'stop sign', 12: 'parking meter', 13: 'bench', 14: 'bird', 15: 'cat', 16: 'dog', 17: 'horse', 18: 'sheep', 19: 'cow', 20: 'elephant', 21: 'bear', 22: 'zebra', 23: 'giraffe', 24: 'backpack', 25: 'umbrella', 26: 'handbag', 27: 'tie', 28: 'suitcase', 29: 'frisbee', 30: 'skis', 31: 'snowboard', 32: 'sports ball', 33: 'kite', 34: 'baseball bat', 35: 'baseball glove', 36: 'skateboard', 37: 'surfboard', 38: 'tennis racket', 39: 'bottle', 40: 'wine glass', 41: 'cup', 42: 'fork', 43: 'knife', 44: 'spoon', 45: 'bowl', 46: 'banana', 47: 'apple', 48: 'sandwich', 49: 'orange', 50: 'broccoli', 51: 'carrot', 52: 'hot dog', 53: 'pizza', 54: 'donut', 55: 'cake', 56: 'chair', 57: 'couch', 58: 'potted plant', 59: 'bed', 60: 'dining table', 61: 'toilet', 62: 'tv', 63: 'laptop', 64: 'mouse', 65: 'remote', 66: 'keyboard', 67: 'cell phone', 68: 'microwave', 69: 'oven', 70: 'toaster', 71: 'sink', 72: 'refrigerator', 73: 'book', 74: 'clock', 75: 'vase', 76: 'scissors', 77: 'teddy bear', 78: 'hair drier', 79: 'toothbrush'}\n"
          ]
        }
      ]
    },
    {
      "cell_type": "code",
      "source": [
        "model.train(data='/content/drive/MyDrive/AI/yolo_train/data.yaml', epochs=100, patience=30, batch=32, imgsz=416, )"
      ],
      "metadata": {
        "id": "eeF3uPiAYyBD",
        "colab": {
          "base_uri": "https://localhost:8080/"
        },
        "outputId": "158c2912-6f8d-4ed4-d370-c1d27d7485c6"
      },
      "execution_count": null,
      "outputs": [
        {
          "output_type": "stream",
          "name": "stderr",
          "text": [
            "Ultralytics YOLOv8.0.139 🚀 Python-3.10.6 torch-2.0.1+cu118 CUDA:0 (Tesla T4, 15102MiB)\n",
            "\u001b[34m\u001b[1mengine/trainer: \u001b[0mtask=detect, mode=train, model=yolov8n.pt, data=/content/drive/MyDrive/AI/yolo_train/data.yaml, epochs=100, patience=30, batch=32, imgsz=416, save=True, save_period=-1, cache=False, device=None, workers=8, project=None, name=None, exist_ok=False, pretrained=True, optimizer=auto, verbose=True, seed=0, deterministic=True, single_cls=False, rect=False, cos_lr=False, close_mosaic=10, resume=False, amp=True, fraction=1.0, profile=False, overlap_mask=True, mask_ratio=4, dropout=0.0, val=True, split=val, save_json=False, save_hybrid=False, conf=None, iou=0.7, max_det=300, half=False, dnn=False, plots=True, source=None, show=False, save_txt=False, save_conf=False, save_crop=False, show_labels=True, show_conf=True, vid_stride=1, line_width=None, visualize=False, augment=False, agnostic_nms=False, classes=None, retina_masks=False, boxes=True, format=torchscript, keras=False, optimize=False, int8=False, dynamic=False, simplify=False, opset=None, workspace=4, nms=False, lr0=0.01, lrf=0.01, momentum=0.937, weight_decay=0.0005, warmup_epochs=3.0, warmup_momentum=0.8, warmup_bias_lr=0.1, box=7.5, cls=0.5, dfl=1.5, pose=12.0, kobj=1.0, label_smoothing=0.0, nbs=64, hsv_h=0.015, hsv_s=0.7, hsv_v=0.4, degrees=0.0, translate=0.1, scale=0.5, shear=0.0, perspective=0.0, flipud=0.0, fliplr=0.5, mosaic=1.0, mixup=0.0, copy_paste=0.0, cfg=None, tracker=botsort.yaml, save_dir=runs/detect/train\n",
            "Downloading https://ultralytics.com/assets/Arial.ttf to /root/.config/Ultralytics/Arial.ttf...\n",
            "100%|██████████| 755k/755k [00:00<00:00, 46.5MB/s]\n",
            "Overriding model.yaml nc=80 with nc=20\n",
            "\n",
            "                   from  n    params  module                                       arguments                     \n",
            "  0                  -1  1       464  ultralytics.nn.modules.conv.Conv             [3, 16, 3, 2]                 \n",
            "  1                  -1  1      4672  ultralytics.nn.modules.conv.Conv             [16, 32, 3, 2]                \n",
            "  2                  -1  1      7360  ultralytics.nn.modules.block.C2f             [32, 32, 1, True]             \n",
            "  3                  -1  1     18560  ultralytics.nn.modules.conv.Conv             [32, 64, 3, 2]                \n",
            "  4                  -1  2     49664  ultralytics.nn.modules.block.C2f             [64, 64, 2, True]             \n",
            "  5                  -1  1     73984  ultralytics.nn.modules.conv.Conv             [64, 128, 3, 2]               \n",
            "  6                  -1  2    197632  ultralytics.nn.modules.block.C2f             [128, 128, 2, True]           \n",
            "  7                  -1  1    295424  ultralytics.nn.modules.conv.Conv             [128, 256, 3, 2]              \n",
            "  8                  -1  1    460288  ultralytics.nn.modules.block.C2f             [256, 256, 1, True]           \n",
            "  9                  -1  1    164608  ultralytics.nn.modules.block.SPPF            [256, 256, 5]                 \n",
            " 10                  -1  1         0  torch.nn.modules.upsampling.Upsample         [None, 2, 'nearest']          \n",
            " 11             [-1, 6]  1         0  ultralytics.nn.modules.conv.Concat           [1]                           \n",
            " 12                  -1  1    148224  ultralytics.nn.modules.block.C2f             [384, 128, 1]                 \n",
            " 13                  -1  1         0  torch.nn.modules.upsampling.Upsample         [None, 2, 'nearest']          \n",
            " 14             [-1, 4]  1         0  ultralytics.nn.modules.conv.Concat           [1]                           \n",
            " 15                  -1  1     37248  ultralytics.nn.modules.block.C2f             [192, 64, 1]                  \n",
            " 16                  -1  1     36992  ultralytics.nn.modules.conv.Conv             [64, 64, 3, 2]                \n",
            " 17            [-1, 12]  1         0  ultralytics.nn.modules.conv.Concat           [1]                           \n",
            " 18                  -1  1    123648  ultralytics.nn.modules.block.C2f             [192, 128, 1]                 \n",
            " 19                  -1  1    147712  ultralytics.nn.modules.conv.Conv             [128, 128, 3, 2]              \n",
            " 20             [-1, 9]  1         0  ultralytics.nn.modules.conv.Concat           [1]                           \n",
            " 21                  -1  1    493056  ultralytics.nn.modules.block.C2f             [384, 256, 1]                 \n",
            " 22        [15, 18, 21]  1    755212  ultralytics.nn.modules.head.Detect           [20, [64, 128, 256]]          \n",
            "Model summary: 225 layers, 3014748 parameters, 3014732 gradients\n",
            "\n",
            "Transferred 319/355 items from pretrained weights\n",
            "\u001b[34m\u001b[1mTensorBoard: \u001b[0mStart with 'tensorboard --logdir runs/detect/train', view at http://localhost:6006/\n",
            "\u001b[34m\u001b[1mAMP: \u001b[0mrunning Automatic Mixed Precision (AMP) checks with YOLOv8n...\n",
            "\u001b[34m\u001b[1mAMP: \u001b[0mchecks passed ✅\n",
            "\u001b[34m\u001b[1mtrain: \u001b[0mScanning /content/drive/MyDrive/AI/yolo_train/train/labels.cache... 357 images, 12 backgrounds, 0 corrupt: 100%|██████████| 357/357 [00:00<?, ?it/s]\n",
            "\u001b[34m\u001b[1malbumentations: \u001b[0mBlur(p=0.01, blur_limit=(3, 7)), MedianBlur(p=0.01, blur_limit=(3, 7)), ToGray(p=0.01), CLAHE(p=0.01, clip_limit=(1, 4.0), tile_grid_size=(8, 8))\n",
            "\u001b[34m\u001b[1mval: \u001b[0mScanning /content/drive/MyDrive/AI/yolo_train/train/labels.cache... 357 images, 12 backgrounds, 0 corrupt: 100%|██████████| 357/357 [00:00<?, ?it/s]\n",
            "Plotting labels to runs/detect/train/labels.jpg... \n",
            "\u001b[34m\u001b[1moptimizer:\u001b[0m AdamW(lr=0.000417, momentum=0.9) with parameter groups 57 weight(decay=0.0), 64 weight(decay=0.0005), 63 bias(decay=0.0)\n",
            "Image sizes 416 train, 416 val\n",
            "Using 2 dataloader workers\n",
            "Logging results to \u001b[1mruns/detect/train\u001b[0m\n",
            "Starting training for 100 epochs...\n",
            "\n",
            "      Epoch    GPU_mem   box_loss   cls_loss   dfl_loss  Instances       Size\n",
            "      1/100      2.34G      1.612      4.606      1.536         24        416: 100%|██████████| 12/12 [00:26<00:00,  2.24s/it]\n",
            "                 Class     Images  Instances      Box(P          R      mAP50  mAP50-95): 100%|██████████| 6/6 [00:05<00:00,  1.19it/s]\n",
            "                   all        357       1646          0          0          0          0\n",
            "\n",
            "      Epoch    GPU_mem   box_loss   cls_loss   dfl_loss  Instances       Size\n",
            "      2/100      2.06G      1.562       4.48      1.506         41        416: 100%|██████████| 12/12 [00:05<00:00,  2.17it/s]\n",
            "                 Class     Images  Instances      Box(P          R      mAP50  mAP50-95): 100%|██████████| 6/6 [00:04<00:00,  1.24it/s]\n",
            "                   all        357       1646     0.0275     0.0186     0.0221     0.0207\n",
            "\n",
            "      Epoch    GPU_mem   box_loss   cls_loss   dfl_loss  Instances       Size\n",
            "      3/100      2.07G      1.512      4.195      1.439         29        416: 100%|██████████| 12/12 [00:07<00:00,  1.52it/s]\n",
            "                 Class     Images  Instances      Box(P          R      mAP50  mAP50-95): 100%|██████████| 6/6 [00:04<00:00,  1.22it/s]\n",
            "                   all        357       1646     0.0529      0.116     0.0668     0.0462\n",
            "\n",
            "      Epoch    GPU_mem   box_loss   cls_loss   dfl_loss  Instances       Size\n",
            "      4/100      2.04G      1.519       3.85       1.41         31        416: 100%|██████████| 12/12 [00:06<00:00,  1.86it/s]\n",
            "                 Class     Images  Instances      Box(P          R      mAP50  mAP50-95): 100%|██████████| 6/6 [00:05<00:00,  1.19it/s]\n",
            "                   all        357       1646     0.0351      0.236      0.109      0.079\n",
            "\n",
            "      Epoch    GPU_mem   box_loss   cls_loss   dfl_loss  Instances       Size\n",
            "      5/100      2.06G      1.552      3.428      1.422         37        416: 100%|██████████| 12/12 [00:06<00:00,  1.90it/s]\n",
            "                 Class     Images  Instances      Box(P          R      mAP50  mAP50-95): 100%|██████████| 6/6 [00:04<00:00,  1.22it/s]\n",
            "                   all        357       1646      0.906     0.0638      0.149      0.108\n",
            "\n",
            "      Epoch    GPU_mem   box_loss   cls_loss   dfl_loss  Instances       Size\n",
            "      6/100      2.06G      1.566      3.242      1.459         24        416: 100%|██████████| 12/12 [00:07<00:00,  1.64it/s]\n",
            "                 Class     Images  Instances      Box(P          R      mAP50  mAP50-95): 100%|██████████| 6/6 [00:05<00:00,  1.08it/s]\n",
            "                   all        357       1646      0.658      0.141      0.168      0.115\n",
            "\n",
            "      Epoch    GPU_mem   box_loss   cls_loss   dfl_loss  Instances       Size\n",
            "      7/100      2.08G      1.473       2.92      1.389         42        416: 100%|██████████| 12/12 [00:06<00:00,  1.86it/s]\n",
            "                 Class     Images  Instances      Box(P          R      mAP50  mAP50-95): 100%|██████████| 6/6 [00:05<00:00,  1.04it/s]\n",
            "                   all        357       1646      0.508      0.189      0.187      0.127\n",
            "\n",
            "      Epoch    GPU_mem   box_loss   cls_loss   dfl_loss  Instances       Size\n",
            "      8/100      2.08G      1.525       2.78      1.423         81        416: 100%|██████████| 12/12 [00:05<00:00,  2.21it/s]\n",
            "                 Class     Images  Instances      Box(P          R      mAP50  mAP50-95): 100%|██████████| 6/6 [00:06<00:00,  1.12s/it]\n",
            "                   all        357       1646      0.502      0.222      0.206      0.135\n",
            "\n",
            "      Epoch    GPU_mem   box_loss   cls_loss   dfl_loss  Instances       Size\n",
            "      9/100      2.07G      1.542      2.699      1.447         53        416: 100%|██████████| 12/12 [00:05<00:00,  2.23it/s]\n",
            "                 Class     Images  Instances      Box(P          R      mAP50  mAP50-95): 100%|██████████| 6/6 [00:07<00:00,  1.29s/it]\n",
            "                   all        357       1646      0.487       0.24      0.238      0.156\n",
            "\n",
            "      Epoch    GPU_mem   box_loss   cls_loss   dfl_loss  Instances       Size\n",
            "     10/100      2.08G       1.56      2.592      1.443         36        416: 100%|██████████| 12/12 [00:04<00:00,  2.94it/s]\n",
            "                 Class     Images  Instances      Box(P          R      mAP50  mAP50-95): 100%|██████████| 6/6 [00:07<00:00,  1.31s/it]\n",
            "                   all        357       1646      0.401      0.303      0.265      0.179\n",
            "\n",
            "      Epoch    GPU_mem   box_loss   cls_loss   dfl_loss  Instances       Size\n",
            "     11/100      2.07G      1.522      2.441      1.435         36        416: 100%|██████████| 12/12 [00:05<00:00,  2.36it/s]\n",
            "                 Class     Images  Instances      Box(P          R      mAP50  mAP50-95): 100%|██████████| 6/6 [00:07<00:00,  1.31s/it]\n",
            "                   all        357       1646      0.367      0.286      0.272      0.182\n",
            "\n",
            "      Epoch    GPU_mem   box_loss   cls_loss   dfl_loss  Instances       Size\n",
            "     12/100      2.09G      1.503      2.371      1.395         63        416: 100%|██████████| 12/12 [00:04<00:00,  2.62it/s]\n",
            "                 Class     Images  Instances      Box(P          R      mAP50  mAP50-95): 100%|██████████| 6/6 [00:07<00:00,  1.25s/it]\n",
            "                   all        357       1646      0.435      0.294      0.309      0.207\n",
            "\n",
            "      Epoch    GPU_mem   box_loss   cls_loss   dfl_loss  Instances       Size\n",
            "     13/100      2.07G      1.463       2.38      1.408         38        416: 100%|██████████| 12/12 [00:04<00:00,  2.56it/s]\n",
            "                 Class     Images  Instances      Box(P          R      mAP50  mAP50-95): 100%|██████████| 6/6 [00:05<00:00,  1.09it/s]\n",
            "                   all        357       1646      0.444      0.367      0.355      0.237\n",
            "\n",
            "      Epoch    GPU_mem   box_loss   cls_loss   dfl_loss  Instances       Size\n",
            "     14/100      2.11G      1.408      2.244       1.36         34        416: 100%|██████████| 12/12 [00:05<00:00,  2.04it/s]\n",
            "                 Class     Images  Instances      Box(P          R      mAP50  mAP50-95): 100%|██████████| 6/6 [00:05<00:00,  1.20it/s]\n",
            "                   all        357       1646      0.493      0.374      0.403      0.268\n",
            "\n",
            "      Epoch    GPU_mem   box_loss   cls_loss   dfl_loss  Instances       Size\n",
            "     15/100      2.07G       1.41      2.158      1.369         34        416: 100%|██████████| 12/12 [00:07<00:00,  1.58it/s]\n",
            "                 Class     Images  Instances      Box(P          R      mAP50  mAP50-95): 100%|██████████| 6/6 [00:05<00:00,  1.16it/s]\n",
            "                   all        357       1646      0.465      0.388      0.396      0.265\n",
            "\n",
            "      Epoch    GPU_mem   box_loss   cls_loss   dfl_loss  Instances       Size\n",
            "     16/100      2.09G      1.412      2.124      1.358         49        416: 100%|██████████| 12/12 [00:07<00:00,  1.55it/s]\n",
            "                 Class     Images  Instances      Box(P          R      mAP50  mAP50-95): 100%|██████████| 6/6 [00:05<00:00,  1.07it/s]\n",
            "                   all        357       1646      0.495      0.407      0.432      0.295\n",
            "\n",
            "      Epoch    GPU_mem   box_loss   cls_loss   dfl_loss  Instances       Size\n",
            "     17/100      2.11G       1.41       2.01      1.354         41        416: 100%|██████████| 12/12 [00:06<00:00,  1.74it/s]\n",
            "                 Class     Images  Instances      Box(P          R      mAP50  mAP50-95): 100%|██████████| 6/6 [00:05<00:00,  1.05it/s]\n",
            "                   all        357       1646      0.531      0.399       0.46      0.315\n",
            "\n",
            "      Epoch    GPU_mem   box_loss   cls_loss   dfl_loss  Instances       Size\n",
            "     18/100      2.07G      1.406      2.055      1.343         36        416: 100%|██████████| 12/12 [00:05<00:00,  2.23it/s]\n",
            "                 Class     Images  Instances      Box(P          R      mAP50  mAP50-95): 100%|██████████| 6/6 [00:09<00:00,  1.53s/it]\n",
            "                   all        357       1646      0.512      0.442      0.465      0.316\n",
            "\n",
            "      Epoch    GPU_mem   box_loss   cls_loss   dfl_loss  Instances       Size\n",
            "     19/100      2.05G      1.379      2.008      1.341         44        416: 100%|██████████| 12/12 [00:04<00:00,  2.58it/s]\n",
            "                 Class     Images  Instances      Box(P          R      mAP50  mAP50-95): 100%|██████████| 6/6 [00:08<00:00,  1.33s/it]\n",
            "                   all        357       1646       0.52      0.414      0.478      0.325\n",
            "\n",
            "      Epoch    GPU_mem   box_loss   cls_loss   dfl_loss  Instances       Size\n",
            "     20/100      2.08G       1.38      1.996      1.335         24        416: 100%|██████████| 12/12 [00:04<00:00,  2.51it/s]\n",
            "                 Class     Images  Instances      Box(P          R      mAP50  mAP50-95): 100%|██████████| 6/6 [00:07<00:00,  1.32s/it]\n",
            "                   all        357       1646      0.572      0.429      0.487       0.33\n",
            "\n",
            "      Epoch    GPU_mem   box_loss   cls_loss   dfl_loss  Instances       Size\n",
            "     21/100       2.1G      1.345      1.913      1.324         35        416: 100%|██████████| 12/12 [00:04<00:00,  2.54it/s]\n",
            "                 Class     Images  Instances      Box(P          R      mAP50  mAP50-95): 100%|██████████| 6/6 [00:07<00:00,  1.24s/it]\n",
            "                   all        357       1646      0.609      0.459      0.526      0.359\n",
            "\n",
            "      Epoch    GPU_mem   box_loss   cls_loss   dfl_loss  Instances       Size\n",
            "     22/100      2.08G      1.362      1.883      1.336         35        416: 100%|██████████| 12/12 [00:05<00:00,  2.34it/s]\n",
            "                 Class     Images  Instances      Box(P          R      mAP50  mAP50-95): 100%|██████████| 6/6 [00:07<00:00,  1.21s/it]\n",
            "                   all        357       1646      0.554      0.498      0.517      0.352\n",
            "\n",
            "      Epoch    GPU_mem   box_loss   cls_loss   dfl_loss  Instances       Size\n",
            "     23/100      2.07G      1.301      1.897      1.319         22        416: 100%|██████████| 12/12 [00:05<00:00,  2.34it/s]\n",
            "                 Class     Images  Instances      Box(P          R      mAP50  mAP50-95): 100%|██████████| 6/6 [00:06<00:00,  1.02s/it]\n",
            "                   all        357       1646       0.62      0.481      0.545       0.37\n",
            "\n",
            "      Epoch    GPU_mem   box_loss   cls_loss   dfl_loss  Instances       Size\n",
            "     24/100      2.07G      1.314      1.811        1.3         28        416: 100%|██████████| 12/12 [00:04<00:00,  2.46it/s]\n",
            "                 Class     Images  Instances      Box(P          R      mAP50  mAP50-95): 100%|██████████| 6/6 [00:05<00:00,  1.02it/s]\n",
            "                   all        357       1646      0.639      0.514      0.581        0.4\n",
            "\n",
            "      Epoch    GPU_mem   box_loss   cls_loss   dfl_loss  Instances       Size\n",
            "     25/100      2.08G      1.356      1.762      1.293         43        416: 100%|██████████| 12/12 [00:06<00:00,  1.97it/s]\n",
            "                 Class     Images  Instances      Box(P          R      mAP50  mAP50-95): 100%|██████████| 6/6 [00:05<00:00,  1.11it/s]\n",
            "                   all        357       1646      0.645      0.486      0.574      0.397\n",
            "\n",
            "      Epoch    GPU_mem   box_loss   cls_loss   dfl_loss  Instances       Size\n",
            "     26/100      2.06G      1.313      1.701      1.284         61        416: 100%|██████████| 12/12 [00:07<00:00,  1.58it/s]\n",
            "                 Class     Images  Instances      Box(P          R      mAP50  mAP50-95): 100%|██████████| 6/6 [00:05<00:00,  1.04it/s]\n",
            "                   all        357       1646      0.577      0.557      0.591      0.407\n",
            "\n",
            "      Epoch    GPU_mem   box_loss   cls_loss   dfl_loss  Instances       Size\n",
            "     27/100      2.07G      1.293      1.703      1.256         35        416: 100%|██████████| 12/12 [00:06<00:00,  1.73it/s]\n",
            "                 Class     Images  Instances      Box(P          R      mAP50  mAP50-95): 100%|██████████| 6/6 [00:05<00:00,  1.05it/s]\n",
            "                   all        357       1646      0.636      0.524      0.593      0.405\n",
            "\n",
            "      Epoch    GPU_mem   box_loss   cls_loss   dfl_loss  Instances       Size\n",
            "     28/100      2.06G      1.263      1.683      1.256         22        416: 100%|██████████| 12/12 [00:06<00:00,  1.99it/s]\n",
            "                 Class     Images  Instances      Box(P          R      mAP50  mAP50-95): 100%|██████████| 6/6 [00:06<00:00,  1.14s/it]\n",
            "                   all        357       1646      0.626      0.529      0.575      0.396\n",
            "\n",
            "      Epoch    GPU_mem   box_loss   cls_loss   dfl_loss  Instances       Size\n",
            "     29/100      2.12G      1.233      1.652      1.255         44        416: 100%|██████████| 12/12 [00:05<00:00,  2.25it/s]\n",
            "                 Class     Images  Instances      Box(P          R      mAP50  mAP50-95): 100%|██████████| 6/6 [00:07<00:00,  1.28s/it]\n",
            "                   all        357       1646      0.704      0.536      0.626      0.434\n",
            "\n",
            "      Epoch    GPU_mem   box_loss   cls_loss   dfl_loss  Instances       Size\n",
            "     30/100      2.06G      1.294      1.656      1.277         37        416: 100%|██████████| 12/12 [00:05<00:00,  2.38it/s]\n",
            "                 Class     Images  Instances      Box(P          R      mAP50  mAP50-95): 100%|██████████| 6/6 [00:08<00:00,  1.42s/it]\n",
            "                   all        357       1646      0.653      0.544      0.613      0.419\n",
            "\n",
            "      Epoch    GPU_mem   box_loss   cls_loss   dfl_loss  Instances       Size\n",
            "     31/100      2.07G      1.282      1.785      1.276         15        416: 100%|██████████| 12/12 [00:04<00:00,  2.44it/s]\n",
            "                 Class     Images  Instances      Box(P          R      mAP50  mAP50-95): 100%|██████████| 6/6 [00:07<00:00,  1.26s/it]\n",
            "                   all        357       1646       0.68      0.569      0.644      0.451\n",
            "\n",
            "      Epoch    GPU_mem   box_loss   cls_loss   dfl_loss  Instances       Size\n",
            "     32/100      2.08G      1.223      1.631      1.236         32        416: 100%|██████████| 12/12 [00:05<00:00,  2.34it/s]\n",
            "                 Class     Images  Instances      Box(P          R      mAP50  mAP50-95): 100%|██████████| 6/6 [00:07<00:00,  1.26s/it]\n",
            "                   all        357       1646      0.691      0.609      0.663      0.471\n",
            "\n",
            "      Epoch    GPU_mem   box_loss   cls_loss   dfl_loss  Instances       Size\n",
            "     33/100      2.06G      1.192       1.53      1.218         28        416: 100%|██████████| 12/12 [00:04<00:00,  2.84it/s]\n",
            "                 Class     Images  Instances      Box(P          R      mAP50  mAP50-95): 100%|██████████| 6/6 [00:07<00:00,  1.23s/it]\n",
            "                   all        357       1646      0.738      0.586      0.667      0.469\n",
            "\n",
            "      Epoch    GPU_mem   box_loss   cls_loss   dfl_loss  Instances       Size\n",
            "     34/100      2.07G      1.191      1.513      1.228         31        416: 100%|██████████| 12/12 [00:05<00:00,  2.38it/s]\n",
            "                 Class     Images  Instances      Box(P          R      mAP50  mAP50-95): 100%|██████████| 6/6 [00:05<00:00,  1.06it/s]\n",
            "                   all        357       1646      0.739      0.626       0.69      0.494\n",
            "\n",
            "      Epoch    GPU_mem   box_loss   cls_loss   dfl_loss  Instances       Size\n",
            "     35/100      2.08G      1.228      1.532      1.231         22        416: 100%|██████████| 12/12 [00:05<00:00,  2.19it/s]\n",
            "                 Class     Images  Instances      Box(P          R      mAP50  mAP50-95): 100%|██████████| 6/6 [00:05<00:00,  1.09it/s]\n",
            "                   all        357       1646      0.699      0.627      0.688      0.487\n",
            "\n",
            "      Epoch    GPU_mem   box_loss   cls_loss   dfl_loss  Instances       Size\n",
            "     36/100      2.07G      1.242      1.607      1.262         30        416: 100%|██████████| 12/12 [00:07<00:00,  1.58it/s]\n",
            "                 Class     Images  Instances      Box(P          R      mAP50  mAP50-95): 100%|██████████| 6/6 [00:07<00:00,  1.28s/it]\n",
            "                   all        357       1646      0.744      0.638      0.711      0.509\n",
            "\n",
            "      Epoch    GPU_mem   box_loss   cls_loss   dfl_loss  Instances       Size\n",
            "     37/100      2.07G       1.18      1.461       1.21         34        416: 100%|██████████| 12/12 [00:07<00:00,  1.69it/s]\n",
            "                 Class     Images  Instances      Box(P          R      mAP50  mAP50-95): 100%|██████████| 6/6 [00:05<00:00,  1.13it/s]\n",
            "                   all        357       1646       0.73      0.666      0.722      0.524\n",
            "\n",
            "      Epoch    GPU_mem   box_loss   cls_loss   dfl_loss  Instances       Size\n",
            "     38/100       2.1G      1.195      1.452      1.196         48        416: 100%|██████████| 12/12 [00:07<00:00,  1.67it/s]\n",
            "                 Class     Images  Instances      Box(P          R      mAP50  mAP50-95): 100%|██████████| 6/6 [00:06<00:00,  1.01s/it]\n",
            "                   all        357       1646      0.758      0.618      0.728      0.522\n",
            "\n",
            "      Epoch    GPU_mem   box_loss   cls_loss   dfl_loss  Instances       Size\n",
            "     39/100      2.07G      1.193      1.538      1.214         23        416: 100%|██████████| 12/12 [00:06<00:00,  1.81it/s]\n",
            "                 Class     Images  Instances      Box(P          R      mAP50  mAP50-95): 100%|██████████| 6/6 [00:05<00:00,  1.08it/s]\n",
            "                   all        357       1646      0.737      0.661      0.732      0.523\n",
            "\n",
            "      Epoch    GPU_mem   box_loss   cls_loss   dfl_loss  Instances       Size\n",
            "     40/100      2.07G      1.173      1.458      1.208         28        416: 100%|██████████| 12/12 [00:06<00:00,  1.88it/s]\n",
            "                 Class     Images  Instances      Box(P          R      mAP50  mAP50-95): 100%|██████████| 6/6 [00:06<00:00,  1.06s/it]\n",
            "                   all        357       1646      0.749       0.67      0.749      0.542\n",
            "\n",
            "      Epoch    GPU_mem   box_loss   cls_loss   dfl_loss  Instances       Size\n",
            "     41/100      2.06G       1.16      1.447      1.207         20        416: 100%|██████████| 12/12 [00:05<00:00,  2.33it/s]\n",
            "                 Class     Images  Instances      Box(P          R      mAP50  mAP50-95): 100%|██████████| 6/6 [00:07<00:00,  1.27s/it]\n",
            "                   all        357       1646       0.74      0.671      0.743      0.536\n",
            "\n",
            "      Epoch    GPU_mem   box_loss   cls_loss   dfl_loss  Instances       Size\n",
            "     42/100      2.09G      1.148      1.436      1.189         35        416: 100%|██████████| 12/12 [00:04<00:00,  2.61it/s]\n",
            "                 Class     Images  Instances      Box(P          R      mAP50  mAP50-95): 100%|██████████| 6/6 [00:07<00:00,  1.27s/it]\n",
            "                   all        357       1646       0.75      0.646      0.732      0.534\n",
            "\n",
            "      Epoch    GPU_mem   box_loss   cls_loss   dfl_loss  Instances       Size\n",
            "     43/100      2.09G      1.163      1.464      1.204         51        416: 100%|██████████| 12/12 [00:04<00:00,  2.44it/s]\n",
            "                 Class     Images  Instances      Box(P          R      mAP50  mAP50-95): 100%|██████████| 6/6 [00:07<00:00,  1.32s/it]\n",
            "                   all        357       1646      0.767      0.654      0.744      0.538\n",
            "\n",
            "      Epoch    GPU_mem   box_loss   cls_loss   dfl_loss  Instances       Size\n",
            "     44/100      2.05G      1.124      1.382      1.181         41        416: 100%|██████████| 12/12 [00:05<00:00,  2.38it/s]\n",
            "                 Class     Images  Instances      Box(P          R      mAP50  mAP50-95): 100%|██████████| 6/6 [00:07<00:00,  1.18s/it]\n",
            "                   all        357       1646      0.772      0.672      0.747      0.542\n",
            "\n",
            "      Epoch    GPU_mem   box_loss   cls_loss   dfl_loss  Instances       Size\n",
            "     45/100      2.08G      1.156      1.401      1.198         53        416: 100%|██████████| 12/12 [00:04<00:00,  2.51it/s]\n",
            "                 Class     Images  Instances      Box(P          R      mAP50  mAP50-95): 100%|██████████| 6/6 [00:05<00:00,  1.04it/s]\n",
            "                   all        357       1646      0.785      0.676      0.749      0.547\n",
            "\n",
            "      Epoch    GPU_mem   box_loss   cls_loss   dfl_loss  Instances       Size\n",
            "     46/100      2.07G      1.132      1.433      1.186         96        416: 100%|██████████| 12/12 [00:05<00:00,  2.12it/s]\n",
            "                 Class     Images  Instances      Box(P          R      mAP50  mAP50-95): 100%|██████████| 6/6 [00:05<00:00,  1.01it/s]\n",
            "                   all        357       1646      0.769      0.685      0.758      0.553\n",
            "\n",
            "      Epoch    GPU_mem   box_loss   cls_loss   dfl_loss  Instances       Size\n",
            "     47/100      2.08G      1.117      1.382      1.163         39        416: 100%|██████████| 12/12 [00:06<00:00,  1.95it/s]\n",
            "                 Class     Images  Instances      Box(P          R      mAP50  mAP50-95): 100%|██████████| 6/6 [00:05<00:00,  1.13it/s]\n",
            "                   all        357       1646      0.775      0.686      0.766      0.552\n",
            "\n",
            "      Epoch    GPU_mem   box_loss   cls_loss   dfl_loss  Instances       Size\n",
            "     48/100      2.07G      1.117      1.357      1.154         64        416: 100%|██████████| 12/12 [00:07<00:00,  1.60it/s]\n",
            "                 Class     Images  Instances      Box(P          R      mAP50  mAP50-95): 100%|██████████| 6/6 [00:05<00:00,  1.01it/s]\n",
            "                   all        357       1646      0.797      0.695      0.784      0.574\n",
            "\n",
            "      Epoch    GPU_mem   box_loss   cls_loss   dfl_loss  Instances       Size\n",
            "     49/100      2.07G      1.132      1.305      1.173         55        416: 100%|██████████| 12/12 [00:07<00:00,  1.69it/s]\n",
            "                 Class     Images  Instances      Box(P          R      mAP50  mAP50-95): 100%|██████████| 6/6 [00:05<00:00,  1.14it/s]\n",
            "                   all        357       1646      0.782      0.726      0.783       0.58\n",
            "\n",
            "      Epoch    GPU_mem   box_loss   cls_loss   dfl_loss  Instances       Size\n",
            "     50/100      2.06G      1.081      1.361      1.179         29        416: 100%|██████████| 12/12 [00:05<00:00,  2.02it/s]\n",
            "                 Class     Images  Instances      Box(P          R      mAP50  mAP50-95): 100%|██████████| 6/6 [00:06<00:00,  1.02s/it]\n",
            "                   all        357       1646       0.79      0.737      0.791      0.584\n",
            "\n",
            "      Epoch    GPU_mem   box_loss   cls_loss   dfl_loss  Instances       Size\n",
            "     51/100      2.06G      1.066      1.236      1.157         31        416: 100%|██████████| 12/12 [00:05<00:00,  2.30it/s]\n",
            "                 Class     Images  Instances      Box(P          R      mAP50  mAP50-95): 100%|██████████| 6/6 [00:08<00:00,  1.41s/it]\n",
            "                   all        357       1646      0.809      0.695      0.791      0.587\n",
            "\n",
            "      Epoch    GPU_mem   box_loss   cls_loss   dfl_loss  Instances       Size\n",
            "     52/100      2.07G      1.072      1.283       1.16         24        416: 100%|██████████| 12/12 [00:04<00:00,  2.95it/s]\n",
            "                 Class     Images  Instances      Box(P          R      mAP50  mAP50-95): 100%|██████████| 6/6 [00:08<00:00,  1.37s/it]\n",
            "                   all        357       1646      0.806      0.712      0.788      0.587\n",
            "\n",
            "      Epoch    GPU_mem   box_loss   cls_loss   dfl_loss  Instances       Size\n",
            "     53/100      2.07G      1.114        1.3      1.164         70        416: 100%|██████████| 12/12 [00:04<00:00,  2.83it/s]\n",
            "                 Class     Images  Instances      Box(P          R      mAP50  mAP50-95): 100%|██████████| 6/6 [00:07<00:00,  1.30s/it]\n",
            "                   all        357       1646      0.845      0.697      0.798      0.602\n",
            "\n",
            "      Epoch    GPU_mem   box_loss   cls_loss   dfl_loss  Instances       Size\n",
            "     54/100      2.12G       1.08      1.238      1.138         44        416: 100%|██████████| 12/12 [00:04<00:00,  2.57it/s]\n",
            "                 Class     Images  Instances      Box(P          R      mAP50  mAP50-95): 100%|██████████| 6/6 [00:08<00:00,  1.40s/it]\n",
            "                   all        357       1646      0.823      0.732      0.803      0.606\n",
            "\n",
            "      Epoch    GPU_mem   box_loss   cls_loss   dfl_loss  Instances       Size\n",
            "     55/100      2.09G      1.053       1.25      1.141         32        416: 100%|██████████| 12/12 [00:05<00:00,  2.32it/s]\n",
            "                 Class     Images  Instances      Box(P          R      mAP50  mAP50-95): 100%|██████████| 6/6 [00:06<00:00,  1.13s/it]\n",
            "                   all        357       1646      0.814      0.739      0.815      0.613\n",
            "\n",
            "      Epoch    GPU_mem   box_loss   cls_loss   dfl_loss  Instances       Size\n",
            "     56/100      2.05G      1.098      1.272      1.152         49        416: 100%|██████████| 12/12 [00:04<00:00,  2.60it/s]\n",
            "                 Class     Images  Instances      Box(P          R      mAP50  mAP50-95): 100%|██████████| 6/6 [00:05<00:00,  1.02it/s]\n",
            "                   all        357       1646      0.839      0.737      0.809       0.61\n",
            "\n",
            "      Epoch    GPU_mem   box_loss   cls_loss   dfl_loss  Instances       Size\n",
            "     57/100       2.1G      1.027      1.215      1.125         31        416: 100%|██████████| 12/12 [00:05<00:00,  2.02it/s]\n",
            "                 Class     Images  Instances      Box(P          R      mAP50  mAP50-95): 100%|██████████| 6/6 [00:05<00:00,  1.07it/s]\n",
            "                   all        357       1646      0.826      0.737      0.813      0.608\n",
            "\n",
            "      Epoch    GPU_mem   box_loss   cls_loss   dfl_loss  Instances       Size\n",
            "     58/100      2.07G       1.07      1.249      1.145         22        416: 100%|██████████| 12/12 [00:07<00:00,  1.68it/s]\n",
            "                 Class     Images  Instances      Box(P          R      mAP50  mAP50-95): 100%|██████████| 6/6 [00:05<00:00,  1.07it/s]\n",
            "                   all        357       1646      0.852      0.729      0.818      0.613\n",
            "\n",
            "      Epoch    GPU_mem   box_loss   cls_loss   dfl_loss  Instances       Size\n",
            "     59/100      2.07G      1.112      1.276      1.176         47        416: 100%|██████████| 12/12 [00:06<00:00,  1.75it/s]\n",
            "                 Class     Images  Instances      Box(P          R      mAP50  mAP50-95): 100%|██████████| 6/6 [00:05<00:00,  1.03it/s]\n",
            "                   all        357       1646      0.825      0.748      0.821      0.618\n",
            "\n",
            "      Epoch    GPU_mem   box_loss   cls_loss   dfl_loss  Instances       Size\n",
            "     60/100      2.08G      1.063      1.226      1.144         29        416: 100%|██████████| 12/12 [00:05<00:00,  2.20it/s]\n",
            "                 Class     Images  Instances      Box(P          R      mAP50  mAP50-95): 100%|██████████| 6/6 [00:06<00:00,  1.16s/it]\n",
            "                   all        357       1646      0.811      0.759      0.818      0.624\n",
            "\n",
            "      Epoch    GPU_mem   box_loss   cls_loss   dfl_loss  Instances       Size\n",
            "     61/100       2.1G      1.119      1.279      1.153        124        416: 100%|██████████| 12/12 [00:05<00:00,  2.31it/s]\n",
            "                 Class     Images  Instances      Box(P          R      mAP50  mAP50-95): 100%|██████████| 6/6 [00:07<00:00,  1.27s/it]\n",
            "                   all        357       1646      0.823      0.741      0.825      0.625\n",
            "\n",
            "      Epoch    GPU_mem   box_loss   cls_loss   dfl_loss  Instances       Size\n",
            "     62/100      2.08G      1.084      1.222      1.153         57        416: 100%|██████████| 12/12 [00:05<00:00,  2.28it/s]\n",
            "                 Class     Images  Instances      Box(P          R      mAP50  mAP50-95): 100%|██████████| 6/6 [00:07<00:00,  1.21s/it]\n",
            "                   all        357       1646      0.836      0.758       0.83      0.632\n",
            "\n",
            "      Epoch    GPU_mem   box_loss   cls_loss   dfl_loss  Instances       Size\n",
            "     63/100      2.06G       1.07      1.258      1.138         25        416: 100%|██████████| 12/12 [00:04<00:00,  2.46it/s]\n",
            "                 Class     Images  Instances      Box(P          R      mAP50  mAP50-95): 100%|██████████| 6/6 [00:08<00:00,  1.34s/it]\n",
            "                   all        357       1646      0.853      0.751      0.838      0.642\n",
            "\n",
            "      Epoch    GPU_mem   box_loss   cls_loss   dfl_loss  Instances       Size\n",
            "     64/100      2.08G       1.08      1.226      1.162         36        416: 100%|██████████| 12/12 [00:04<00:00,  2.51it/s]\n",
            "                 Class     Images  Instances      Box(P          R      mAP50  mAP50-95): 100%|██████████| 6/6 [00:07<00:00,  1.18s/it]\n",
            "                   all        357       1646      0.819      0.788       0.84      0.645\n",
            "\n",
            "      Epoch    GPU_mem   box_loss   cls_loss   dfl_loss  Instances       Size\n",
            "     65/100      2.08G      1.038      1.158      1.121         54        416: 100%|██████████| 12/12 [00:04<00:00,  2.81it/s]\n",
            "                 Class     Images  Instances      Box(P          R      mAP50  mAP50-95): 100%|██████████| 6/6 [00:06<00:00,  1.02s/it]\n",
            "                   all        357       1646      0.851      0.766       0.84      0.647\n",
            "\n",
            "      Epoch    GPU_mem   box_loss   cls_loss   dfl_loss  Instances       Size\n",
            "     66/100      2.07G      1.018      1.175      1.122         33        416: 100%|██████████| 12/12 [00:05<00:00,  2.03it/s]\n",
            "                 Class     Images  Instances      Box(P          R      mAP50  mAP50-95): 100%|██████████| 6/6 [00:05<00:00,  1.01it/s]\n",
            "                   all        357       1646      0.883      0.753      0.846      0.653\n",
            "\n",
            "      Epoch    GPU_mem   box_loss   cls_loss   dfl_loss  Instances       Size\n",
            "     67/100      2.07G      1.042      1.179      1.139         57        416: 100%|██████████| 12/12 [00:06<00:00,  1.97it/s]\n",
            "                 Class     Images  Instances      Box(P          R      mAP50  mAP50-95): 100%|██████████| 6/6 [00:05<00:00,  1.08it/s]\n",
            "                   all        357       1646      0.858      0.767      0.841      0.652\n",
            "\n",
            "      Epoch    GPU_mem   box_loss   cls_loss   dfl_loss  Instances       Size\n",
            "     68/100      2.13G      1.062      1.178      1.132         34        416: 100%|██████████| 12/12 [00:07<00:00,  1.65it/s]\n",
            "                 Class     Images  Instances      Box(P          R      mAP50  mAP50-95): 100%|██████████| 6/6 [00:05<00:00,  1.06it/s]\n",
            "                   all        357       1646      0.879      0.746       0.84      0.647\n",
            "\n",
            "      Epoch    GPU_mem   box_loss   cls_loss   dfl_loss  Instances       Size\n",
            "     69/100      2.07G      1.006      1.146      1.118         25        416: 100%|██████████| 12/12 [00:06<00:00,  1.95it/s]\n",
            "                 Class     Images  Instances      Box(P          R      mAP50  mAP50-95): 100%|██████████| 6/6 [00:06<00:00,  1.07s/it]\n",
            "                   all        357       1646      0.851      0.776      0.838      0.647\n",
            "\n",
            "      Epoch    GPU_mem   box_loss   cls_loss   dfl_loss  Instances       Size\n",
            "     70/100       2.1G      1.027      1.156      1.127         38        416: 100%|██████████| 12/12 [00:06<00:00,  2.00it/s]\n",
            "                 Class     Images  Instances      Box(P          R      mAP50  mAP50-95): 100%|██████████| 6/6 [00:07<00:00,  1.25s/it]\n",
            "                   all        357       1646      0.846      0.792      0.856      0.662\n",
            "\n",
            "      Epoch    GPU_mem   box_loss   cls_loss   dfl_loss  Instances       Size\n",
            "     71/100      2.08G      1.006      1.146      1.124         38        416: 100%|██████████| 12/12 [00:04<00:00,  2.87it/s]\n",
            "                 Class     Images  Instances      Box(P          R      mAP50  mAP50-95): 100%|██████████| 6/6 [00:07<00:00,  1.24s/it]\n",
            "                   all        357       1646      0.881      0.783       0.86      0.659\n",
            "\n",
            "      Epoch    GPU_mem   box_loss   cls_loss   dfl_loss  Instances       Size\n",
            "     72/100      2.07G      1.003      1.125      1.105         29        416: 100%|██████████| 12/12 [00:05<00:00,  2.36it/s]\n",
            "                 Class     Images  Instances      Box(P          R      mAP50  mAP50-95): 100%|██████████| 6/6 [00:07<00:00,  1.31s/it]\n",
            "                   all        357       1646      0.867      0.782      0.854      0.662\n",
            "\n",
            "      Epoch    GPU_mem   box_loss   cls_loss   dfl_loss  Instances       Size\n",
            "     73/100      2.06G     0.9767      1.089      1.097         39        416: 100%|██████████| 12/12 [00:07<00:00,  1.64it/s]\n",
            "                 Class     Images  Instances      Box(P          R      mAP50  mAP50-95): 100%|██████████| 6/6 [00:07<00:00,  1.32s/it]\n",
            "                   all        357       1646      0.877      0.784      0.861      0.667\n",
            "\n",
            "      Epoch    GPU_mem   box_loss   cls_loss   dfl_loss  Instances       Size\n",
            "     74/100      2.07G      1.008      1.156      1.112         28        416: 100%|██████████| 12/12 [00:04<00:00,  2.58it/s]\n",
            "                 Class     Images  Instances      Box(P          R      mAP50  mAP50-95): 100%|██████████| 6/6 [00:07<00:00,  1.27s/it]\n",
            "                   all        357       1646      0.862      0.793       0.86      0.671\n",
            "\n",
            "      Epoch    GPU_mem   box_loss   cls_loss   dfl_loss  Instances       Size\n",
            "     75/100      2.09G       1.03      1.122      1.118         18        416: 100%|██████████| 12/12 [00:05<00:00,  2.40it/s]\n",
            "                 Class     Images  Instances      Box(P          R      mAP50  mAP50-95): 100%|██████████| 6/6 [00:07<00:00,  1.30s/it]\n",
            "                   all        357       1646      0.857      0.801      0.862      0.676\n",
            "\n",
            "      Epoch    GPU_mem   box_loss   cls_loss   dfl_loss  Instances       Size\n",
            "     76/100      2.07G      1.025      1.093      1.116         39        416: 100%|██████████| 12/12 [00:05<00:00,  2.29it/s]\n",
            "                 Class     Images  Instances      Box(P          R      mAP50  mAP50-95): 100%|██████████| 6/6 [00:07<00:00,  1.23s/it]\n",
            "                   all        357       1646      0.855      0.803      0.862      0.677\n",
            "\n",
            "      Epoch    GPU_mem   box_loss   cls_loss   dfl_loss  Instances       Size\n",
            "     77/100      2.07G     0.9412       1.06      1.089         29        416: 100%|██████████| 12/12 [00:04<00:00,  2.70it/s]\n",
            "                 Class     Images  Instances      Box(P          R      mAP50  mAP50-95): 100%|██████████| 6/6 [00:06<00:00,  1.07s/it]\n",
            "                   all        357       1646      0.866      0.808      0.866      0.679\n",
            "\n",
            "      Epoch    GPU_mem   box_loss   cls_loss   dfl_loss  Instances       Size\n",
            "     78/100      2.07G      1.019      1.123       1.12         42        416: 100%|██████████| 12/12 [00:04<00:00,  2.42it/s]\n",
            "                 Class     Images  Instances      Box(P          R      mAP50  mAP50-95): 100%|██████████| 6/6 [00:05<00:00,  1.12it/s]\n",
            "                   all        357       1646      0.884      0.802      0.872      0.682\n",
            "\n",
            "      Epoch    GPU_mem   box_loss   cls_loss   dfl_loss  Instances       Size\n",
            "     79/100      2.07G     0.9953      1.117      1.117         45        416: 100%|██████████| 12/12 [00:06<00:00,  1.75it/s]\n",
            "                 Class     Images  Instances      Box(P          R      mAP50  mAP50-95): 100%|██████████| 6/6 [00:05<00:00,  1.02it/s]\n",
            "                   all        357       1646      0.885      0.813      0.871      0.685\n",
            "\n",
            "      Epoch    GPU_mem   box_loss   cls_loss   dfl_loss  Instances       Size\n",
            "     80/100      2.07G     0.9778      1.102      1.088         48        416: 100%|██████████| 12/12 [00:06<00:00,  1.78it/s]\n",
            "                 Class     Images  Instances      Box(P          R      mAP50  mAP50-95): 100%|██████████| 6/6 [00:05<00:00,  1.09it/s]\n",
            "                   all        357       1646      0.883      0.806       0.87      0.686\n",
            "\n",
            "      Epoch    GPU_mem   box_loss   cls_loss   dfl_loss  Instances       Size\n",
            "     81/100      2.07G     0.9765      1.057      1.099         40        416: 100%|██████████| 12/12 [00:07<00:00,  1.63it/s]\n",
            "                 Class     Images  Instances      Box(P          R      mAP50  mAP50-95): 100%|██████████| 6/6 [00:05<00:00,  1.04it/s]\n",
            "                   all        357       1646      0.885      0.803      0.868      0.684\n",
            "\n",
            "      Epoch    GPU_mem   box_loss   cls_loss   dfl_loss  Instances       Size\n",
            "     82/100      2.07G     0.9713      1.092      1.103         55        416: 100%|██████████| 12/12 [00:05<00:00,  2.03it/s]\n",
            "                 Class     Images  Instances      Box(P          R      mAP50  mAP50-95): 100%|██████████| 6/6 [00:07<00:00,  1.21s/it]\n",
            "                   all        357       1646      0.903      0.811      0.876      0.693\n",
            "\n",
            "      Epoch    GPU_mem   box_loss   cls_loss   dfl_loss  Instances       Size\n",
            "     83/100      2.08G     0.9551      1.067      1.098         23        416: 100%|██████████| 12/12 [00:04<00:00,  2.61it/s]\n",
            "                 Class     Images  Instances      Box(P          R      mAP50  mAP50-95): 100%|██████████| 6/6 [00:07<00:00,  1.32s/it]\n",
            "                   all        357       1646      0.907      0.806      0.877      0.694\n",
            "\n",
            "      Epoch    GPU_mem   box_loss   cls_loss   dfl_loss  Instances       Size\n",
            "     84/100      2.07G     0.9325      1.088      1.105         23        416: 100%|██████████| 12/12 [00:04<00:00,  2.64it/s]\n",
            "                 Class     Images  Instances      Box(P          R      mAP50  mAP50-95): 100%|██████████| 6/6 [00:07<00:00,  1.28s/it]\n",
            "                   all        357       1646      0.911      0.805      0.881      0.698\n",
            "\n",
            "      Epoch    GPU_mem   box_loss   cls_loss   dfl_loss  Instances       Size\n",
            "     85/100      2.07G     0.9744      1.049      1.098         41        416: 100%|██████████| 12/12 [00:05<00:00,  2.40it/s]\n",
            "                 Class     Images  Instances      Box(P          R      mAP50  mAP50-95): 100%|██████████| 6/6 [00:07<00:00,  1.33s/it]\n",
            "                   all        357       1646      0.901      0.809      0.883      0.703\n",
            "\n",
            "      Epoch    GPU_mem   box_loss   cls_loss   dfl_loss  Instances       Size\n",
            "     86/100       2.1G     0.9674      1.119      1.112         15        416: 100%|██████████| 12/12 [00:04<00:00,  2.46it/s]\n",
            "                 Class     Images  Instances      Box(P          R      mAP50  mAP50-95): 100%|██████████| 6/6 [00:07<00:00,  1.22s/it]\n",
            "                   all        357       1646      0.885      0.815      0.883      0.698\n",
            "\n",
            "      Epoch    GPU_mem   box_loss   cls_loss   dfl_loss  Instances       Size\n",
            "     87/100      2.08G     0.9638      1.062      1.102         16        416: 100%|██████████| 12/12 [00:04<00:00,  2.65it/s]\n",
            "                 Class     Images  Instances      Box(P          R      mAP50  mAP50-95): 100%|██████████| 6/6 [00:06<00:00,  1.12s/it]\n",
            "                   all        357       1646      0.883      0.815      0.881      0.697\n",
            "\n",
            "      Epoch    GPU_mem   box_loss   cls_loss   dfl_loss  Instances       Size\n",
            "     88/100      2.08G     0.9592      1.145      1.115         10        416: 100%|██████████| 12/12 [00:05<00:00,  2.14it/s]\n",
            "                 Class     Images  Instances      Box(P          R      mAP50  mAP50-95): 100%|██████████| 6/6 [00:05<00:00,  1.12it/s]\n",
            "                   all        357       1646        0.9      0.802      0.883        0.7\n",
            "\n",
            "      Epoch    GPU_mem   box_loss   cls_loss   dfl_loss  Instances       Size\n",
            "     89/100      2.08G     0.9617      1.052      1.097         29        416: 100%|██████████| 12/12 [00:07<00:00,  1.52it/s]\n",
            "                 Class     Images  Instances      Box(P          R      mAP50  mAP50-95): 100%|██████████| 6/6 [00:06<00:00,  1.03s/it]\n",
            "                   all        357       1646      0.902      0.806      0.885      0.699\n",
            "\n",
            "      Epoch    GPU_mem   box_loss   cls_loss   dfl_loss  Instances       Size\n",
            "     90/100      2.08G     0.9604      1.072      1.097         28        416: 100%|██████████| 12/12 [00:07<00:00,  1.63it/s]\n",
            "                 Class     Images  Instances      Box(P          R      mAP50  mAP50-95): 100%|██████████| 6/6 [00:05<00:00,  1.08it/s]\n",
            "                   all        357       1646      0.891      0.814      0.883      0.699\n",
            "Closing dataloader mosaic\n",
            "\u001b[34m\u001b[1malbumentations: \u001b[0mBlur(p=0.01, blur_limit=(3, 7)), MedianBlur(p=0.01, blur_limit=(3, 7)), ToGray(p=0.01), CLAHE(p=0.01, clip_limit=(1, 4.0), tile_grid_size=(8, 8))\n",
            "\n",
            "      Epoch    GPU_mem   box_loss   cls_loss   dfl_loss  Instances       Size\n",
            "     91/100      2.07G      0.966       1.12      1.099         57        416: 100%|██████████| 12/12 [00:14<00:00,  1.18s/it]\n",
            "                 Class     Images  Instances      Box(P          R      mAP50  mAP50-95): 100%|██████████| 6/6 [00:06<00:00,  1.10s/it]\n",
            "                   all        357       1646      0.889      0.816      0.885      0.699\n",
            "\n",
            "      Epoch    GPU_mem   box_loss   cls_loss   dfl_loss  Instances       Size\n",
            "     92/100      2.07G     0.9206      1.053      1.063         20        416: 100%|██████████| 12/12 [00:05<00:00,  2.34it/s]\n",
            "                 Class     Images  Instances      Box(P          R      mAP50  mAP50-95): 100%|██████████| 6/6 [00:05<00:00,  1.03it/s]\n",
            "                   all        357       1646      0.855      0.828      0.881      0.693\n",
            "\n",
            "      Epoch    GPU_mem   box_loss   cls_loss   dfl_loss  Instances       Size\n",
            "     93/100      2.05G     0.8976      1.031      1.055         48        416: 100%|██████████| 12/12 [00:06<00:00,  1.76it/s]\n",
            "                 Class     Images  Instances      Box(P          R      mAP50  mAP50-95): 100%|██████████| 6/6 [00:05<00:00,  1.13it/s]\n",
            "                   all        357       1646      0.874      0.819      0.883      0.698\n",
            "\n",
            "      Epoch    GPU_mem   box_loss   cls_loss   dfl_loss  Instances       Size\n",
            "     94/100      2.05G     0.8535     0.9915      1.023         16        416: 100%|██████████| 12/12 [00:06<00:00,  1.85it/s]\n",
            "                 Class     Images  Instances      Box(P          R      mAP50  mAP50-95): 100%|██████████| 6/6 [00:06<00:00,  1.02s/it]\n",
            "                   all        357       1646      0.888      0.817      0.887      0.706\n",
            "\n",
            "      Epoch    GPU_mem   box_loss   cls_loss   dfl_loss  Instances       Size\n",
            "     95/100      2.07G     0.8462     0.9452      1.032         14        416: 100%|██████████| 12/12 [00:04<00:00,  2.71it/s]\n",
            "                 Class     Images  Instances      Box(P          R      mAP50  mAP50-95): 100%|██████████| 6/6 [00:07<00:00,  1.33s/it]\n",
            "                   all        357       1646      0.887      0.829      0.887      0.707\n",
            "\n",
            "      Epoch    GPU_mem   box_loss   cls_loss   dfl_loss  Instances       Size\n",
            "     96/100      2.06G     0.8722     0.9689      1.054         22        416: 100%|██████████| 12/12 [00:03<00:00,  3.28it/s]\n",
            "                 Class     Images  Instances      Box(P          R      mAP50  mAP50-95): 100%|██████████| 6/6 [00:08<00:00,  1.39s/it]\n",
            "                   all        357       1646      0.901      0.816      0.889      0.705\n",
            "\n",
            "      Epoch    GPU_mem   box_loss   cls_loss   dfl_loss  Instances       Size\n",
            "     97/100      2.07G     0.8793      0.981      1.047         43        416: 100%|██████████| 12/12 [00:04<00:00,  2.91it/s]\n",
            "                 Class     Images  Instances      Box(P          R      mAP50  mAP50-95): 100%|██████████| 6/6 [00:07<00:00,  1.20s/it]\n",
            "                   all        357       1646      0.899      0.821      0.891      0.705\n",
            "\n",
            "      Epoch    GPU_mem   box_loss   cls_loss   dfl_loss  Instances       Size\n",
            "     98/100      2.08G     0.8941     0.9475      1.057         32        416: 100%|██████████| 12/12 [00:04<00:00,  2.47it/s]\n",
            "                 Class     Images  Instances      Box(P          R      mAP50  mAP50-95): 100%|██████████| 6/6 [00:05<00:00,  1.03it/s]\n",
            "                   all        357       1646      0.894      0.831      0.893      0.708\n",
            "\n",
            "      Epoch    GPU_mem   box_loss   cls_loss   dfl_loss  Instances       Size\n",
            "     99/100      2.07G     0.8891     0.9378      1.066         15        416: 100%|██████████| 12/12 [00:04<00:00,  2.50it/s]\n",
            "                 Class     Images  Instances      Box(P          R      mAP50  mAP50-95): 100%|██████████| 6/6 [00:05<00:00,  1.02it/s]\n",
            "                   all        357       1646      0.887      0.838      0.895      0.709\n",
            "\n",
            "      Epoch    GPU_mem   box_loss   cls_loss   dfl_loss  Instances       Size\n",
            "    100/100      2.06G     0.8436      0.983       1.04         22        416: 100%|██████████| 12/12 [00:06<00:00,  1.88it/s]\n",
            "                 Class     Images  Instances      Box(P          R      mAP50  mAP50-95): 100%|██████████| 6/6 [00:15<00:00,  2.66s/it]\n",
            "                   all        357       1646      0.887      0.842      0.897      0.712\n",
            "\n",
            "100 epochs completed in 0.399 hours.\n",
            "Optimizer stripped from runs/detect/train/weights/last.pt, 6.2MB\n",
            "Optimizer stripped from runs/detect/train/weights/best.pt, 6.2MB\n",
            "\n",
            "Validating runs/detect/train/weights/best.pt...\n",
            "Ultralytics YOLOv8.0.139 🚀 Python-3.10.6 torch-2.0.1+cu118 CUDA:0 (Tesla T4, 15102MiB)\n",
            "Model summary (fused): 168 layers, 3009548 parameters, 0 gradients\n",
            "                 Class     Images  Instances      Box(P          R      mAP50  mAP50-95): 100%|██████████| 6/6 [00:14<00:00,  2.47s/it]\n",
            "                   all        357       1646      0.885      0.842      0.897      0.711\n",
            "                Trowel        357         50      0.925      0.735      0.774      0.579\n",
            "                 basin        357         36      0.973      0.944       0.95      0.876\n",
            "                 board        357        107      0.876       0.85      0.912      0.715\n",
            "                 brick        357        262      0.779      0.561      0.706      0.424\n",
            "                bricks        357        113      0.921      0.947      0.975      0.868\n",
            "          concrete bag        357         57      0.724      0.649      0.702      0.495\n",
            "            dump truck        357         37      0.914      0.973      0.984      0.858\n",
            "             excavator        357         78      0.983      0.974      0.984      0.925\n",
            "     long handle float        357         35       0.97      0.943      0.965      0.828\n",
            "                 mixed        357         59      0.825      0.879      0.903      0.763\n",
            "                  pile        357         33      0.785      0.727      0.816      0.486\n",
            "                 plant        357        197      0.948      0.926      0.967      0.792\n",
            "        plasterer shoe        357         16      0.834      0.875       0.91      0.581\n",
            "        plastic barrel        357         84      0.937      0.917      0.937      0.831\n",
            "              rainboot        357         41      0.924      0.892       0.95      0.677\n",
            "                roller        357         29      0.849      0.759       0.91      0.675\n",
            "            square can        357         33      0.967      0.885      0.958      0.778\n",
            "                 steel        357         51      0.782      0.765      0.874      0.605\n",
            "                  stud        357         57      0.953      0.982      0.988      0.916\n",
            "                  wood        357        271      0.832      0.646      0.769      0.552\n",
            "Speed: 1.8ms preprocess, 1.4ms inference, 0.0ms loss, 3.2ms postprocess per image\n",
            "Results saved to \u001b[1mruns/detect/train\u001b[0m\n"
          ]
        }
      ]
    },
    {
      "cell_type": "code",
      "source": [
        "print(type(model.names), len(model.names))\n",
        "\n",
        "print(model.names)"
      ],
      "metadata": {
        "id": "rU4hUb6aRMu5",
        "colab": {
          "base_uri": "https://localhost:8080/"
        },
        "outputId": "8253d628-a224-4d09-ee45-e9da3828403b"
      },
      "execution_count": null,
      "outputs": [
        {
          "output_type": "stream",
          "name": "stdout",
          "text": [
            "<class 'dict'> 20\n",
            "{0: 'Trowel', 1: 'basin', 2: 'board', 3: 'brick', 4: 'bricks', 5: 'concrete bag', 6: 'dump truck', 7: 'excavator', 8: 'long handle float', 9: 'mixed', 10: 'pile', 11: 'plant', 12: 'plasterer shoe', 13: 'plastic barrel', 14: 'rainboot', 15: 'roller', 16: 'square can', 17: 'steel', 18: 'stud', 19: 'wood'}\n"
          ]
        }
      ]
    },
    {
      "cell_type": "markdown",
      "source": [
        "# train 과정중에 loss, accuracy 등의 graph 데이터는 runs/detect/train/ 에 있는 results.csv 와 results.png 통해서 확인가능하다"
      ],
      "metadata": {
        "id": "-XTkv6lRnYq6"
      }
    },
    {
      "cell_type": "code",
      "source": [
        "model = YOLO('/content/runs/detect/train/weights/best.pt')"
      ],
      "metadata": {
        "id": "_2btH8tS2n6v"
      },
      "execution_count": null,
      "outputs": []
    },
    {
      "cell_type": "markdown",
      "metadata": {
        "id": "PGvvaF60Fp2U"
      },
      "source": [
        "# 테스트 이미지 데이터 생성 및 확인"
      ]
    },
    {
      "cell_type": "code",
      "execution_count": null,
      "metadata": {
        "id": "QknTB5poU_3-"
      },
      "outputs": [],
      "source": [
        "# 테스트 이미지\n",
        "\n",
        "from glob import glob\n",
        "\n",
        "test_image_list = glob('/content/drive/MyDrive/AI/Aquarium_Data/test/images/*')\n",
        "\n",
        "print(len(test_image_list))\n",
        "\n",
        "test_image_list.sort()\n",
        "\n",
        "for i in range(len(test_image_list)):\n",
        "\n",
        "    print('i = ',i, test_image_list[i])"
      ]
    },
    {
      "cell_type": "markdown",
      "metadata": {
        "id": "cKdlujLuFxui"
      },
      "source": [
        "# 이미지내의 객체 검출 (Inference)"
      ]
    },
    {
      "cell_type": "code",
      "execution_count": null,
      "metadata": {
        "id": "Iy_75ZcSU_4E",
        "colab": {
          "base_uri": "https://localhost:8080/"
        },
        "outputId": "a6676d94-4670-4bd1-9c71-3083641575de"
      },
      "outputs": [
        {
          "output_type": "stream",
          "name": "stderr",
          "text": [
            "\n",
            "image 1/37 /content/drive/MyDrive/AI/yolo_train/test/images/-11-_jpeg.rf.d673a2b087adf6ca22b0096c5815a1e5.jpg: 416x416 (no detections), 6.5ms\n",
            "image 2/37 /content/drive/MyDrive/AI/yolo_train/test/images/-7-_jpeg.rf.cf90c27b96ecef4b041855e86e46dbee.jpg: 416x416 (no detections), 6.7ms\n",
            "image 3/37 /content/drive/MyDrive/AI/yolo_train/test/images/Heavy_Equipment_1009_jpg.rf.0592be69a80293b3e48abdca27ab8642.jpg: 416x416 (no detections), 6.3ms\n",
            "image 4/37 /content/drive/MyDrive/AI/yolo_train/test/images/Heavy_Equipment_2890_jpg.rf.87e538f41e21c6edc510777ebe57069f.jpg: 416x416 (no detections), 6.5ms\n",
            "image 5/37 /content/drive/MyDrive/AI/yolo_train/test/images/M_M_sddefault_jpg.rf.eafa11471e9389ba8e05810e7d0c52f3.jpg: 416x416 (no detections), 7.9ms\n",
            "image 6/37 /content/drive/MyDrive/AI/yolo_train/test/images/carpentry-14-_jpeg.rf.7a614e1ff5739aa1505ffa365e6307bd.jpg: 416x416 (no detections), 6.1ms\n",
            "image 7/37 /content/drive/MyDrive/AI/yolo_train/test/images/carpentry-a-11-_jpeg.rf.c91eb6d48525bbeea25affcc64c083b4.jpg: 416x416 (no detections), 6.9ms\n",
            "image 8/37 /content/drive/MyDrive/AI/yolo_train/test/images/carpentry-a-13-_jpeg.rf.1a59f3b0516549c63dfaffccbc025f55.jpg: 416x416 (no detections), 6.3ms\n",
            "image 9/37 /content/drive/MyDrive/AI/yolo_train/test/images/carpentry-a-16-_jpeg.rf.cd8069ba95ddc45e896e023285f346b8.jpg: 416x416 (no detections), 6.2ms\n",
            "image 10/37 /content/drive/MyDrive/AI/yolo_train/test/images/earthwork-1-_jpeg.rf.54ba507e183dcffab02d96c9c6263103.jpg: 416x416 (no detections), 10.0ms\n",
            "image 11/37 /content/drive/MyDrive/AI/yolo_train/test/images/earthwork-11-_jpeg.rf.326472b3451350917ec437795d7d4f9b.jpg: 416x416 (no detections), 7.9ms\n",
            "image 12/37 /content/drive/MyDrive/AI/yolo_train/test/images/earthwork-19-_jpeg.rf.d0c0c864972b00808974284c338dc300.jpg: 416x416 (no detections), 8.2ms\n",
            "image 13/37 /content/drive/MyDrive/AI/yolo_train/test/images/earthwork-25-_jpeg.rf.8937f269f84f08a9d5a6d02a718c2b84.jpg: 416x416 (no detections), 7.7ms\n",
            "image 14/37 /content/drive/MyDrive/AI/yolo_train/test/images/earthwork-38-_jpeg.rf.ab88d2a0c524a12e8d2857f623ccddd7.jpg: 416x416 (no detections), 12.5ms\n",
            "image 15/37 /content/drive/MyDrive/AI/yolo_train/test/images/earthwork_a-7-_jpeg.rf.443e75ebfd651adb972f61683e2854da.jpg: 416x416 (no detections), 8.3ms\n",
            "image 16/37 /content/drive/MyDrive/AI/yolo_train/test/images/landscaping-2-_jpeg.rf.e90c32169b8b649110cc857a7e55a7b9.jpg: 416x416 (no detections), 7.9ms\n",
            "image 17/37 /content/drive/MyDrive/AI/yolo_train/test/images/landscaping-a-4-_jpeg.rf.ae1d24041cc7332e443611ebf41bab16.jpg: 416x416 (no detections), 7.8ms\n",
            "image 18/37 /content/drive/MyDrive/AI/yolo_train/test/images/landscaping_a-14-_jpeg.rf.5b683875b096dc09a07e9c6ebf3c5f36.jpg: 416x416 (no detections), 10.2ms\n",
            "image 19/37 /content/drive/MyDrive/AI/yolo_train/test/images/masonry-11-_jpeg.rf.11ce7e7abef68e2e5510161d4c2a2ed2.jpg: 416x416 (no detections), 8.3ms\n",
            "image 20/37 /content/drive/MyDrive/AI/yolo_train/test/images/masonry-12-_jpeg.rf.6ea1ebf206fb31a95433142dde0fae54.jpg: 416x416 (no detections), 7.8ms\n",
            "image 21/37 /content/drive/MyDrive/AI/yolo_train/test/images/masonry-20-_jpeg.rf.5c15f7c39d523b97d4226b19910cd211.jpg: 416x416 (no detections), 13.5ms\n",
            "image 22/37 /content/drive/MyDrive/AI/yolo_train/test/images/masonry-6-_jpeg.rf.ed7fa360a058ab1a4b857fbafa838745.jpg: 416x416 (no detections), 10.4ms\n",
            "image 23/37 /content/drive/MyDrive/AI/yolo_train/test/images/masonry_a-1-_jpeg.rf.31625208d529b18cc1de28ae9d28d2fa.jpg: 416x416 (no detections), 6.3ms\n",
            "image 24/37 /content/drive/MyDrive/AI/yolo_train/test/images/masonry_a-14-_jpeg.rf.0fe2c2b7024c26b7abf459be6cbaf747.jpg: 416x416 (no detections), 6.9ms\n",
            "image 25/37 /content/drive/MyDrive/AI/yolo_train/test/images/painting-15-_jpeg.rf.3111714644718042c04e95593cd06a18.jpg: 416x416 (no detections), 6.4ms\n",
            "image 26/37 /content/drive/MyDrive/AI/yolo_train/test/images/painting-25-_jpeg.rf.0ce2ff1a1dbcb36e7a1aacf90fdd483f.jpg: 416x416 (no detections), 6.2ms\n",
            "image 27/37 /content/drive/MyDrive/AI/yolo_train/test/images/painting-33-_jpeg.rf.6b5ea33da295f73a28d334514bf3f4d5.jpg: 416x416 (no detections), 6.3ms\n",
            "image 28/37 /content/drive/MyDrive/AI/yolo_train/test/images/painting-38-_jpeg.rf.232f8a394ddcbdafa11cbd7aa4a12e31.jpg: 416x416 (no detections), 6.2ms\n",
            "image 29/37 /content/drive/MyDrive/AI/yolo_train/test/images/painting-7-_jpeg.rf.d5dd4d0cf2ecfc2171d6db72219789de.jpg: 416x416 (no detections), 6.1ms\n",
            "image 30/37 /content/drive/MyDrive/AI/yolo_train/test/images/painting-9-_jpeg.rf.943e42edf8df3f06d5470a8b9731e8cf.jpg: 416x416 (no detections), 6.2ms\n",
            "image 31/37 /content/drive/MyDrive/AI/yolo_train/test/images/painting_a-1-_jpeg.rf.7f149424d1d7551d9a8ad0c890934520.jpg: 416x416 (no detections), 6.3ms\n",
            "image 32/37 /content/drive/MyDrive/AI/yolo_train/test/images/painting_a-4-_jpeg.rf.7583235da04bc1f794798a825844f896.jpg: 416x416 (no detections), 6.3ms\n",
            "image 33/37 /content/drive/MyDrive/AI/yolo_train/test/images/painting_a-8-_jpeg.rf.6632f149e4a03e4713b7d17853d1f5d3.jpg: 416x416 (no detections), 6.6ms\n",
            "image 34/37 /content/drive/MyDrive/AI/yolo_train/test/images/plastering-12-_jpeg.rf.b22086479d8db0108f61dc28b4efafc0.jpg: 416x416 (no detections), 6.1ms\n",
            "image 35/37 /content/drive/MyDrive/AI/yolo_train/test/images/plastering-28-_jpeg.rf.322275503f52a80e513ced4e94bcfb00.jpg: 416x416 (no detections), 6.3ms\n",
            "image 36/37 /content/drive/MyDrive/AI/yolo_train/test/images/plastering-31-_jpeg.rf.4430763355269d9c1b47a3b31ce76e75.jpg: 416x416 (no detections), 6.4ms\n",
            "image 37/37 /content/drive/MyDrive/AI/yolo_train/test/images/plastering-a-8-_jpeg.rf.d9173d5fa6674e1433dee8dfab4d98be.jpg: 416x416 (no detections), 6.3ms\n",
            "Speed: 1.8ms preprocess, 7.4ms inference, 1.2ms postprocess per image at shape (1, 3, 416, 416)\n",
            "Results saved to \u001b[1mruns/detect/predict\u001b[0m\n"
          ]
        }
      ],
      "source": [
        "results = model.predict(source='/content/drive/MyDrive/AI/yolo_train/test/images/', save=True)"
      ]
    },
    {
      "cell_type": "markdown",
      "metadata": {
        "id": "99Ex5nU5F55F"
      },
      "source": [
        "# 결과 확인 및 다운로드"
      ]
    },
    {
      "cell_type": "code",
      "source": [
        "import numpy as np\n",
        "\n",
        "for result in results:\n",
        "\n",
        "    uniq, cnt = np.unique(result.boxes.cls.cpu().numpy(), return_counts=True)  # Torch.Tensor -> numpy\n",
        "    uniq_cnt_dict = dict(zip(uniq, cnt))\n",
        "    print(result)\n",
        "\n",
        "    print('\\n{class num:counts} =', uniq_cnt_dict,'\\n')\n",
        "\n",
        "    for c in result.boxes.cls:\n",
        "        print('class num =', int(c), ', class_name =', model.names[int(c)])"
      ],
      "metadata": {
        "id": "v62tV0sK0lWh"
      },
      "execution_count": null,
      "outputs": []
    },
    {
      "cell_type": "code",
      "execution_count": null,
      "metadata": {
        "colab": {
          "base_uri": "https://localhost:8080/"
        },
        "id": "xHOOYeLAHSb_",
        "outputId": "f3b1318f-716f-4f71-a8e2-78d6d979c23d"
      },
      "outputs": [
        {
          "output_type": "stream",
          "name": "stdout",
          "text": [
            "19\n",
            "['/content/runs/detect/predict/earthwork-19-_jpeg.rf.d0c0c864972b00808974284c338dc300.jpg', '/content/runs/detect/predict/earthwork-11-_jpeg.rf.326472b3451350917ec437795d7d4f9b.jpg', '/content/runs/detect/predict/earthwork-25-_jpeg.rf.8937f269f84f08a9d5a6d02a718c2b84.jpg', '/content/runs/detect/predict/plastering-12-_jpeg.rf.b22086479d8db0108f61dc28b4efafc0.jpg', '/content/runs/detect/predict/plastering-28-_jpeg.rf.322275503f52a80e513ced4e94bcfb00.jpg', '/content/runs/detect/predict/painting-7-_jpeg.rf.d5dd4d0cf2ecfc2171d6db72219789de.jpg', '/content/runs/detect/predict/earthwork-1-_jpeg.rf.54ba507e183dcffab02d96c9c6263103.jpg', '/content/runs/detect/predict/painting-15-_jpeg.rf.3111714644718042c04e95593cd06a18.jpg', '/content/runs/detect/predict/painting-9-_jpeg.rf.0e1abd08bd1b062ce31b99619b4ab303.jpg', '/content/runs/detect/predict/painting-33-_jpeg.rf.6b5ea33da295f73a28d334514bf3f4d5.jpg', '/content/runs/detect/predict/earthwork-38-_jpeg.rf.ab88d2a0c524a12e8d2857f623ccddd7.jpg', '/content/runs/detect/predict/masonry-12-_jpeg.rf.6ea1ebf206fb31a95433142dde0fae54.jpg', '/content/runs/detect/predict/masonry-6-_jpeg.rf.ed7fa360a058ab1a4b857fbafa838745.jpg', '/content/runs/detect/predict/masonry-20-_jpeg.rf.5c15f7c39d523b97d4226b19910cd211.jpg', '/content/runs/detect/predict/painting-38-_jpeg.rf.232f8a394ddcbdafa11cbd7aa4a12e31.jpg', '/content/runs/detect/predict/landscaping-2-_jpeg.rf.e90c32169b8b649110cc857a7e55a7b9.jpg', '/content/runs/detect/predict/plastering-31-_jpeg.rf.4430763355269d9c1b47a3b31ce76e75.jpg', '/content/runs/detect/predict/painting-25-_jpeg.rf.0ce2ff1a1dbcb36e7a1aacf90fdd483f.jpg', '/content/runs/detect/predict/masonry-11-_jpeg.rf.11ce7e7abef68e2e5510161d4c2a2ed2.jpg']\n"
          ]
        }
      ],
      "source": [
        "import glob\n",
        "\n",
        "detetced_image_list = glob.glob(('/content/runs/detect/predict/*'))\n",
        "\n",
        "detected_image_nums = len(detetced_image_list)\n",
        "\n",
        "print(detected_image_nums)\n",
        "\n",
        "print(detetced_image_list)"
      ]
    },
    {
      "cell_type": "code",
      "execution_count": null,
      "metadata": {
        "id": "wYFPNzfMSOyt",
        "colab": {
          "base_uri": "https://localhost:8080/"
        },
        "outputId": "7c7eddde-b646-4e3f-996f-d0de1793dc0d"
      },
      "outputs": [
        {
          "output_type": "stream",
          "name": "stdout",
          "text": [
            "detected_result dir is created !!!\n"
          ]
        }
      ],
      "source": [
        "# 다운로드를 위한 inference image 압축\n",
        "\n",
        "import zipfile\n",
        "import os\n",
        "\n",
        "if not os.path.exists('/content/detected_result/'):\n",
        "    os.mkdir('/content/detected_result/')\n",
        "    print('detected_result dir is created !!!')\n",
        "\n",
        "\n",
        "with zipfile.ZipFile('/content/detected_result/detected_images.zip', 'w') as detected_images:\n",
        "\n",
        "    for idx in range(detected_image_nums):\n",
        "        detected_images.write(detetced_image_list[idx])"
      ]
    },
    {
      "cell_type": "code",
      "source": [],
      "metadata": {
        "id": "29x_-u0FKC7Q"
      },
      "execution_count": null,
      "outputs": []
    }
  ],
  "metadata": {
    "accelerator": "GPU",
    "colab": {
      "provenance": []
    },
    "kernelspec": {
      "display_name": "Python 3",
      "language": "python",
      "name": "python3"
    },
    "language_info": {
      "codemirror_mode": {
        "name": "ipython",
        "version": 3
      },
      "file_extension": ".py",
      "mimetype": "text/x-python",
      "name": "python",
      "nbconvert_exporter": "python",
      "pygments_lexer": "ipython3",
      "version": "3.7.3"
    }
  },
  "nbformat": 4,
  "nbformat_minor": 0
}